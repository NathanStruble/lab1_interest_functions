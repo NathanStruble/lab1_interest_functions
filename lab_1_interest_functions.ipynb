{
  "cells": [
    {
      "cell_type": "markdown",
      "metadata": {
        "id": "aCDzoeAmEbfG"
      },
      "source": [
        "## Lab 1 - Compound Interest Functions\n",
        "\n",
        "Below you will find a table of important formulae related to compound interest.  \n",
        "\n",
        "<img src=\"https://www.dummies.com/wp-content/uploads/251689.image0.jpg\" alt=\"image0.jpg\" width=\"400\" height=\"319\">\n",
        "\n",
        "In this lab, you will create functions for each of these using (and documenting) the following workflow.\n",
        "\n",
        "1. Work out the correct answer for a few examples. *Hint* Search for e.g. \"worked out compound interest examples\" on the web.\n",
        "2. Write a `lambda` function and test this function on your test cases.\n",
        "3. Convert the `lambda` function to a `def` statement with an informative doc string that follows the [Google formating rules](https://google.github.io/styleguide/pyguide.html#383-functions-and-methods).\n",
        "4. Write an automated test function (using your previous examples) that will test your `def` statement function each time the code is executed."
      ]
    },
    {
      "cell_type": "markdown",
      "metadata": {
        "id": "mRsp46sWEbfJ"
      },
      "source": [
        "#### Problem 1 -- Apply the process to create a simple interest functions."
      ]
    },
    {
      "cell_type": "code",
      "execution_count": null,
      "metadata": {
        "colab": {
          "base_uri": "https://localhost:8080/"
        },
        "id": "S0bkPqKVEbfK",
        "outputId": "b0c8ac94-a3e5-4a37-c2aa-f3fa797992b8"
      },
      "outputs": [
        {
          "output_type": "execute_result",
          "data": {
            "text/plain": [
              "0.1"
            ]
          },
          "metadata": {},
          "execution_count": 1
        }
      ],
      "source": [
        "(lambda p, r, t: p*r*t)(1, .1, 1)"
      ]
    },
    {
      "cell_type": "code",
      "source": [
        "def simple_interest(p, r, t):\n",
        "  return p*r*t\n",
        "simple_interest(1, .1, 1)"
      ],
      "metadata": {
        "id": "JB9t7W6DFOAf",
        "outputId": "f2d9baf5-dbd3-4885-929d-6ea6d24906fe",
        "colab": {
          "base_uri": "https://localhost:8080/"
        }
      },
      "execution_count": null,
      "outputs": [
        {
          "output_type": "execute_result",
          "data": {
            "text/plain": [
              "0.1"
            ]
          },
          "metadata": {},
          "execution_count": 2
        }
      ]
    },
    {
      "cell_type": "code",
      "source": [
        "def simple_interest(p, r, t):\n",
        "  \"\"\"Function used to calculate simple interest\n",
        "     \n",
        "     Args: p: number representing amount of money interest is being collected on\n",
        "           r: number representing interest rate\n",
        "           t: number representing time in years over which interest is collected\n",
        "\n",
        "    Returns: number representing interest earned to be added to the principal\n",
        "  \"\"\"\n",
        "  return p*r*t\n",
        "  \n",
        "def test_simple_interest():\n",
        "  assert simple_interest(1, .1, 1) == 0.1\n",
        "  assert simple_interest(1, 0, 1) == 0\n",
        "  assert simple_interest(1,-.1, 1) == -0.1\n",
        "\n",
        "test_simple_interest()\n",
        "simple_interest(1,0,1)"
      ],
      "metadata": {
        "id": "N3AOo3TBFSqT",
        "outputId": "a2996357-0445-4d99-a027-cb591f1af02d",
        "colab": {
          "base_uri": "https://localhost:8080/"
        }
      },
      "execution_count": null,
      "outputs": [
        {
          "output_type": "execute_result",
          "data": {
            "text/plain": [
              "0"
            ]
          },
          "metadata": {},
          "execution_count": 6
        }
      ]
    },
    {
      "cell_type": "markdown",
      "metadata": {
        "id": "pyj775B7EbfM"
      },
      "source": [
        "#### Problem 2 -- Apply the process to create a compound interest functions."
      ]
    },
    {
      "cell_type": "code",
      "execution_count": 2,
      "metadata": {
        "id": "mZB3jMuqEbfM",
        "outputId": "b9102fd3-eefa-48e5-e1ff-4ea05a9d05fc",
        "colab": {
          "base_uri": "https://localhost:8080/"
        }
      },
      "outputs": [
        {
          "output_type": "execute_result",
          "data": {
            "text/plain": [
              "1.0"
            ]
          },
          "metadata": {},
          "execution_count": 2
        }
      ],
      "source": [
        "(lambda p, r, n, t : p*(1 + (r/n)**(n*t)))(1,0, 1, 1)"
      ]
    },
    {
      "cell_type": "code",
      "source": [
        "def compound_interest(p, r, n, t):\n",
        "  \"\"\"function used to calculate compounding interest\n",
        "  \n",
        "     Args: p: number representing the principal that money is being earned on\n",
        "           r: number representing the interest rate\n",
        "           n: number representing the number of compoundings per year\n",
        "           t: number representing time in years over which the interest is earned\n",
        "\n",
        "    Returns: New amount of money after compounding interest is added to the principal\n",
        "  \"\"\"\n",
        "  return p*(1 + (r/n)**(n*t))\n",
        "def test_compound_interest():\n",
        "  assert compound_interest(1,.1,1,1) == 1.1\n",
        "  assert compound_interest(1, 1, 1, 1) == 2\n",
        "  assert compound_interest(1,0,1,1) == 1\n",
        "test_compound_interest()"
      ],
      "metadata": {
        "id": "cnoTfWahIUVu"
      },
      "execution_count": 3,
      "outputs": []
    },
    {
      "cell_type": "markdown",
      "metadata": {
        "id": "HLDM_v6uEbfN"
      },
      "source": [
        "#### Problem 3 -- Apply the process to create a amortized loan payment function."
      ]
    },
    {
      "cell_type": "code",
      "execution_count": 6,
      "metadata": {
        "id": "pAZ6goutEbfN",
        "outputId": "6d63584b-63ff-4af3-e979-b2de44bef70b",
        "colab": {
          "base_uri": "https://localhost:8080/"
        }
      },
      "outputs": [
        {
          "output_type": "execute_result",
          "data": {
            "text/plain": [
              "0.0"
            ]
          },
          "metadata": {},
          "execution_count": 6
        }
      ],
      "source": [
        "(lambda p, i, n: (p*i)/(1-(1+i)**-n))(1,1,1)"
      ]
    },
    {
      "cell_type": "code",
      "source": [
        "def amortized_loan_payment(p, i, n):\n",
        "  \"\"\"function used to calculate amortized loan payments\n",
        "  \n",
        "     Args: p: amount borrowed\n",
        "           i: interest rate per pay period\n",
        "           n: number of payments\n",
        "\n",
        "    Returns: number representing the answer to the equation used to calculate amortized loan payments\n",
        "  \"\"\"\n",
        "  return (p*i)/(1-(1+i)**-n)\n",
        "def test_amortized_loan_payment():\n",
        "    assert amortized_loan_payment(1, 1, 1) == 2\n",
        "    assert amortized_loan_payment(0,1,1) == 0\n",
        "test_amortized_loan_payment()"
      ],
      "metadata": {
        "id": "BRqPO2zTKimp"
      },
      "execution_count": 7,
      "outputs": []
    },
    {
      "cell_type": "markdown",
      "metadata": {
        "id": "ieg4XR7KEbfN"
      },
      "source": [
        "#### Problem 4 -- Apply the process to create a remaining balance function"
      ]
    },
    {
      "cell_type": "code",
      "execution_count": 8,
      "metadata": {
        "id": "wEM_oXaNEbfO",
        "outputId": "65030901-24ff-4e39-b706-0e769701aa15",
        "colab": {
          "base_uri": "https://localhost:8080/"
        }
      },
      "outputs": [
        {
          "output_type": "execute_result",
          "data": {
            "text/plain": [
              "0.5"
            ]
          },
          "metadata": {},
          "execution_count": 8
        }
      ],
      "source": [
        "(lambda r, i, n, x: (1-(1+i)**-(n-x))/i)(1,1,2,1)"
      ]
    },
    {
      "cell_type": "code",
      "source": [
        "def remaining_balance(r, i, n, x):\n",
        "    \"\"\"function used to calculate remaining balance on loans\n",
        "  \n",
        "     Args: r: regular payment\n",
        "           i: interest rate per pay period\n",
        "           n: number of payments\n",
        "           x: number of payments already made\n",
        "\n",
        "    Returns: number representing the remaining amount of money to be payed on a loan\n",
        "    \"\"\"\n",
        "    return  (1-(1+i)**-(n-x))/i\n",
        "def test_remaining_balance():\n",
        "  assert remaining_balance(1,1,1,1) == 0\n",
        "  assert remaining_balance(1,1,2,1) == 0.5\n",
        "test_remaining_balance()"
      ],
      "metadata": {
        "id": "HCNiRICzLsT3"
      },
      "execution_count": 9,
      "outputs": []
    }
  ],
  "metadata": {
    "kernelspec": {
      "display_name": "Python 3",
      "language": "python",
      "name": "python3"
    },
    "language_info": {
      "codemirror_mode": {
        "name": "ipython",
        "version": 3
      },
      "file_extension": ".py",
      "mimetype": "text/x-python",
      "name": "python",
      "nbconvert_exporter": "python",
      "pygments_lexer": "ipython3",
      "version": "3.7.2"
    },
    "colab": {
      "provenance": []
    }
  },
  "nbformat": 4,
  "nbformat_minor": 0
}